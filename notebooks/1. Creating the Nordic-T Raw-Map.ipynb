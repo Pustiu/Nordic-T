{
 "cells": [
  {
   "cell_type": "markdown",
   "source": [
    "# The Transparent Nordic Networks"
   ],
   "metadata": {}
  },
  {
   "cell_type": "markdown",
   "source": [
    "This notebook investigates on the Transparent Nordic Network."
   ],
   "metadata": {}
  },
  {
   "cell_type": "markdown",
   "source": [
    "This notebook gatheres all Raw Transparency NordicT Networks, combines the data into one map display, and saves the map as html before being manually added to this projects site [here](https://ocrj.github.io/Nordic-T/), for display of the transparent sources. The combined data display is raw, and each subnetwork displayed as it was at its original transparent source."
   ],
   "metadata": {}
  },
  {
   "cell_type": "markdown",
   "source": [
    "## The Transparent Network Maps"
   ],
   "metadata": {}
  },
  {
   "cell_type": "markdown",
   "source": [
    "Collections from the different TSOs GIS/WMS/GEOMAP services results in the combined Nordic System as shown in the map below."
   ],
   "metadata": {}
  },
  {
   "cell_type": "code",
   "execution_count": 1,
   "source": [
    "# Importing libraries.\r\n",
    "import sys, os, inspect\r\n",
    "import folium\r\n",
    "from folium import plugins\r\n",
    "\r\n",
    "# Adding parent project folder to current notebook namespace.\r\n",
    "currentdir = os.path.dirname(os.path.abspath(inspect.getfile(inspect.currentframe())))\r\n",
    "parentdir = os.path.dirname(currentdir)\r\n",
    "sys.path.insert(0, parentdir)"
   ],
   "outputs": [],
   "metadata": {
    "code_folding": [
     0
    ]
   }
  },
  {
   "cell_type": "code",
   "execution_count": 3,
   "source": [
    "# Creating empty folium map with added basemap tilelayers.\r\n",
    "m = folium.Map(location=[63.5, 17], zoom_start=4, tiles='cartodbpositron', minResolution=0)"
   ],
   "outputs": [],
   "metadata": {
    "code_folding": [
     0
    ]
   }
  },
  {
   "cell_type": "code",
   "execution_count": 4,
   "source": [
    "# Creating folium map tiles from transparent source WMS services."
   ],
   "outputs": [],
   "metadata": {
    "code_folding": []
   }
  },
  {
   "cell_type": "code",
   "execution_count": 5,
   "source": [
    "# Fingrid Navici Map layer.\r\n",
    "navici_wms_url = 'https://fingrid.navici.com/wms/3d5805c1f9cda9db42d9d9378952427b'\r\n",
    "fi_fg = folium.FeatureGroup(name='Finland, Fingrid Grid')\r\n",
    "fi_fg.add_to(m)\r\n",
    "folium.WmsTileLayer(url=navici_wms_url, \r\n",
    "                    attr='<a href=\"https://fingrid.navici.com/\">Fingrid Navici</a>',\r\n",
    "                    layers=['active_power_lines', 'external_power_lines', 'active_cables', 'external_cables', 'active_stations', 'external_stations'], \r\n",
    "                    transparent=True, fmt='image/gif').add_to(fi_fg)\r\n",
    "#plugins.FloatImage('https://fingrid.navici.com/wms/3d5805c1f9cda9db42d9d9378952427b?TRANSPARENT=true&SERVICE=WMS&VERSION=1.1.1&REQUEST=GetLegendGraphic&EXCEPTIONS=application%2Fvnd.ogc.se_xml&FORMAT=image%2Fpng&LAYER=active_power_lines&legend_options=fontName:Verdana;fontAntiAliasing:true;fontSize:14;dpi:92;',\r\n",
    "                  #bottom=5, left=87).add_to(fi_fg)"
   ],
   "outputs": [
    {
     "output_type": "execute_result",
     "data": {
      "text/plain": [
       "<folium.raster_layers.WmsTileLayer at 0x16260dcdbe0>"
      ]
     },
     "metadata": {},
     "execution_count": 5
    }
   ],
   "metadata": {
    "code_folding": [
     0
    ]
   }
  },
  {
   "cell_type": "code",
   "execution_count": 6,
   "source": [
    "# Energinet ArcGIS Map layer\r\n",
    "dk_lines_url = 'https://agis.energinet.dk/server/services/INSPIRE/XP_el_Inspir/MapServer/WMSServer'\r\n",
    "dk_stations_url = 'https://agis.energinet.dk/server/services/INSPIRE/WMS_WFS_TowerSubstationLine_N/MapServer/WMSServer'\r\n",
    "dk_fg = folium.FeatureGroup(name='Denmark, Energinet Grid')\r\n",
    "dk_fg.add_to(m)\r\n",
    "\r\n",
    "folium.WmsTileLayer(url=dk_lines_url, \r\n",
    "                    attr='<a href=\"https://agis.energinet.dk/server/rest/services/\"> Energinet ArcGIS</a>',\r\n",
    "                    layers=['0', '1', '2', '3'], \r\n",
    "                    transparent=True, fmt='image/gif').add_to(dk_fg)\r\n",
    "folium.WmsTileLayer(url=dk_stations_url, \r\n",
    "                    #attr='<a href=\"https://agis.energinet.dk/server/rest/services/\"> Energinet ArcGIS</a>',\r\n",
    "                    layers=['1'], \r\n",
    "                    transparent=True, fmt='image/gif').add_to(dk_fg)"
   ],
   "outputs": [
    {
     "output_type": "execute_result",
     "data": {
      "text/plain": [
       "<folium.raster_layers.WmsTileLayer at 0x1625e10c9a0>"
      ]
     },
     "metadata": {},
     "execution_count": 6
    }
   ],
   "metadata": {
    "code_folding": [
     0
    ]
   }
  },
  {
   "cell_type": "code",
   "execution_count": 7,
   "source": [
    "# Statnett/Nve ArcGIS Map layer\r\n",
    "no_url = 'https://nve.geodataonline.no/arcgis/services/Nettanlegg2/MapServer/WMSServer'\r\n",
    "no_fg = folium.FeatureGroup(name='Norway, Statnett Grid')\r\n",
    "no_fg.add_to(m)\r\n",
    "folium.WmsTileLayer(url=no_url, \r\n",
    "                    attr='<a href=\"https://nve.geodataonline.no/arcgis/rest/services/Nettanlegg2/MapServer\">Statnett/Nve ArcGIS</a>',\r\n",
    "                    layers=['Sjokabler', 'Distribusjonsnett', 'Regionalnett', 'Sentralnett', 'Transformatorstasjoner', 'Master og stolper'], \r\n",
    "                    transparent=True, fmt='image/png', minZoom=0).add_to(no_fg)"
   ],
   "outputs": [
    {
     "output_type": "execute_result",
     "data": {
      "text/plain": [
       "<folium.raster_layers.WmsTileLayer at 0x16260dcdc10>"
      ]
     },
     "metadata": {},
     "execution_count": 7
    }
   ],
   "metadata": {
    "code_folding": [
     0
    ]
   }
  },
  {
   "cell_type": "code",
   "execution_count": 8,
   "source": [
    "# Svenska Kraftnät/\r\n",
    "se_fg = folium.FeatureGroup(name='Sweden, Svenska Kraftnät Grid')\r\n",
    "m.add_child(se_fg)\r\n",
    "#se_sfg_lines = plugins.FeatureGroupSubGroup(se_fg, name='SvK Lines')\r\n",
    "#m.add_child(se_sfg_lines)\r\n",
    "#se_sfg_stations = plugins.FeatureGroupSubGroup(se_fg, name='SvK Stations')\r\n",
    "#m.add_child(se_sfg_stations)\r\n",
    "se_wms_layer = folium.WmsTileLayer(url='https://inspire-skn.metria.se/geoserver/skn/wms', \r\n",
    "                    attr='<a href=\"https://inspire-skn.metria.se/geoserver/skn/wms?REQUEST=GetCapabilities\">Svenska Kraftnät/Läntmäteriet GeoServer</a>',\r\n",
    "                    layers=['US.ElectricityNetwork.Lines', 'US.ElectricityNetwork.StationAreas', 'US.ElectricityNetwork.Stations'], \r\n",
    "                    transparent=True, fmt='image/gif')\r\n",
    "se_fg.add_child(se_wms_layer)"
   ],
   "outputs": [
    {
     "output_type": "execute_result",
     "data": {
      "text/plain": [
       "<folium.map.FeatureGroup at 0x16260dbb700>"
      ]
     },
     "metadata": {},
     "execution_count": 8
    }
   ],
   "metadata": {
    "code_folding": [
     0
    ]
   }
  },
  {
   "cell_type": "code",
   "execution_count": 9,
   "source": [
    "#plugins.TimestampedWmsTileLayers(se_wms_layer).add_to(m)"
   ],
   "outputs": [],
   "metadata": {
    "code_folding": []
   }
  },
  {
   "cell_type": "code",
   "execution_count": 10,
   "source": [
    "# Add layer control to map.\r\n",
    "folium.LayerControl(collapset=False).add_to(m)\r\n",
    "#plugins.Draw().add_to(m)\r\n",
    "plugins.MeasureControl(position='bottomleft').add_to(m)\r\n",
    "plugins.Fullscreen().add_to(m)"
   ],
   "outputs": [
    {
     "output_type": "execute_result",
     "data": {
      "text/plain": [
       "<folium.plugins.fullscreen.Fullscreen at 0x16260dcd2e0>"
      ]
     },
     "metadata": {},
     "execution_count": 10
    }
   ],
   "metadata": {
    "code_folding": [
     0
    ]
   }
  },
  {
   "cell_type": "code",
   "execution_count": 11,
   "source": [
    "# Display map\r\n",
    "m"
   ],
   "outputs": [
    {
     "output_type": "execute_result",
     "data": {
      "text/plain": [
       "<folium.folium.Map at 0x16260db5700>"
      ],
      "text/html": [
       "<div style=\"width:100%;\"><div style=\"position:relative;width:100%;height:0;padding-bottom:60%;\"><span style=\"color:#565656\">Make this Notebook Trusted to load map: File -> Trust Notebook</span><iframe src=\"about:blank\" style=\"position:absolute;width:100%;height:100%;left:0;top:0;border:none !important;\" data-html=%3C%21DOCTYPE%20html%3E%0A%3Chead%3E%20%20%20%20%0A%20%20%20%20%3Cmeta%20http-equiv%3D%22content-type%22%20content%3D%22text/html%3B%20charset%3DUTF-8%22%20/%3E%0A%20%20%20%20%0A%20%20%20%20%20%20%20%20%3Cscript%3E%0A%20%20%20%20%20%20%20%20%20%20%20%20L_NO_TOUCH%20%3D%20false%3B%0A%20%20%20%20%20%20%20%20%20%20%20%20L_DISABLE_3D%20%3D%20false%3B%0A%20%20%20%20%20%20%20%20%3C/script%3E%0A%20%20%20%20%0A%20%20%20%20%3Cstyle%3Ehtml%2C%20body%20%7Bwidth%3A%20100%25%3Bheight%3A%20100%25%3Bmargin%3A%200%3Bpadding%3A%200%3B%7D%3C/style%3E%0A%20%20%20%20%3Cstyle%3E%23map%20%7Bposition%3Aabsolute%3Btop%3A0%3Bbottom%3A0%3Bright%3A0%3Bleft%3A0%3B%7D%3C/style%3E%0A%20%20%20%20%3Cscript%20src%3D%22https%3A//cdn.jsdelivr.net/npm/leaflet%401.6.0/dist/leaflet.js%22%3E%3C/script%3E%0A%20%20%20%20%3Cscript%20src%3D%22https%3A//code.jquery.com/jquery-1.12.4.min.js%22%3E%3C/script%3E%0A%20%20%20%20%3Cscript%20src%3D%22https%3A//maxcdn.bootstrapcdn.com/bootstrap/3.2.0/js/bootstrap.min.js%22%3E%3C/script%3E%0A%20%20%20%20%3Cscript%20src%3D%22https%3A//cdnjs.cloudflare.com/ajax/libs/Leaflet.awesome-markers/2.0.2/leaflet.awesome-markers.js%22%3E%3C/script%3E%0A%20%20%20%20%3Clink%20rel%3D%22stylesheet%22%20href%3D%22https%3A//cdn.jsdelivr.net/npm/leaflet%401.6.0/dist/leaflet.css%22/%3E%0A%20%20%20%20%3Clink%20rel%3D%22stylesheet%22%20href%3D%22https%3A//maxcdn.bootstrapcdn.com/bootstrap/3.2.0/css/bootstrap.min.css%22/%3E%0A%20%20%20%20%3Clink%20rel%3D%22stylesheet%22%20href%3D%22https%3A//maxcdn.bootstrapcdn.com/bootstrap/3.2.0/css/bootstrap-theme.min.css%22/%3E%0A%20%20%20%20%3Clink%20rel%3D%22stylesheet%22%20href%3D%22https%3A//maxcdn.bootstrapcdn.com/font-awesome/4.6.3/css/font-awesome.min.css%22/%3E%0A%20%20%20%20%3Clink%20rel%3D%22stylesheet%22%20href%3D%22https%3A//cdnjs.cloudflare.com/ajax/libs/Leaflet.awesome-markers/2.0.2/leaflet.awesome-markers.css%22/%3E%0A%20%20%20%20%3Clink%20rel%3D%22stylesheet%22%20href%3D%22https%3A//cdn.jsdelivr.net/gh/python-visualization/folium/folium/templates/leaflet.awesome.rotate.min.css%22/%3E%0A%20%20%20%20%0A%20%20%20%20%20%20%20%20%20%20%20%20%3Cmeta%20name%3D%22viewport%22%20content%3D%22width%3Ddevice-width%2C%0A%20%20%20%20%20%20%20%20%20%20%20%20%20%20%20%20initial-scale%3D1.0%2C%20maximum-scale%3D1.0%2C%20user-scalable%3Dno%22%20/%3E%0A%20%20%20%20%20%20%20%20%20%20%20%20%3Cstyle%3E%0A%20%20%20%20%20%20%20%20%20%20%20%20%20%20%20%20%23map_d89a343979c04fe381d77f5893784ef7%20%7B%0A%20%20%20%20%20%20%20%20%20%20%20%20%20%20%20%20%20%20%20%20position%3A%20relative%3B%0A%20%20%20%20%20%20%20%20%20%20%20%20%20%20%20%20%20%20%20%20width%3A%20100.0%25%3B%0A%20%20%20%20%20%20%20%20%20%20%20%20%20%20%20%20%20%20%20%20height%3A%20100.0%25%3B%0A%20%20%20%20%20%20%20%20%20%20%20%20%20%20%20%20%20%20%20%20left%3A%200.0%25%3B%0A%20%20%20%20%20%20%20%20%20%20%20%20%20%20%20%20%20%20%20%20top%3A%200.0%25%3B%0A%20%20%20%20%20%20%20%20%20%20%20%20%20%20%20%20%7D%0A%20%20%20%20%20%20%20%20%20%20%20%20%3C/style%3E%0A%20%20%20%20%20%20%20%20%0A%20%20%20%20%3Cscript%20src%3D%22https%3A//cdnjs.cloudflare.com/ajax/libs/leaflet.draw/1.0.2/leaflet.draw.js%22%3E%3C/script%3E%0A%20%20%20%20%3Clink%20rel%3D%22stylesheet%22%20href%3D%22https%3A//cdnjs.cloudflare.com/ajax/libs/leaflet.draw/1.0.2/leaflet.draw.css%22/%3E%0A%20%20%20%20%3Cscript%20src%3D%22https%3A//cdn.jsdelivr.net/gh/ljagis/leaflet-measure%402.1.7/dist/leaflet-measure.min.js%22%3E%3C/script%3E%0A%20%20%20%20%3Clink%20rel%3D%22stylesheet%22%20href%3D%22https%3A//cdn.jsdelivr.net/gh/ljagis/leaflet-measure%402.1.7/dist/leaflet-measure.min.css%22/%3E%0A%20%20%20%20%3Cscript%20src%3D%22https%3A//cdnjs.cloudflare.com/ajax/libs/leaflet.fullscreen/1.4.2/Control.FullScreen.min.js%22%3E%3C/script%3E%0A%20%20%20%20%3Clink%20rel%3D%22stylesheet%22%20href%3D%22https%3A//cdnjs.cloudflare.com/ajax/libs/leaflet.fullscreen/1.4.2/Control.FullScreen.min.css%22/%3E%0A%3C/head%3E%0A%3Cbody%3E%20%20%20%20%0A%20%20%20%20%0A%20%20%20%20%20%20%20%20%20%20%20%20%3Cdiv%20class%3D%22folium-map%22%20id%3D%22map_d89a343979c04fe381d77f5893784ef7%22%20%3E%3C/div%3E%0A%20%20%20%20%20%20%20%20%0A%3C/body%3E%0A%3Cscript%3E%20%20%20%20%0A%20%20%20%20%0A%20%20%20%20%20%20%20%20%20%20%20%20var%20map_d89a343979c04fe381d77f5893784ef7%20%3D%20L.map%28%0A%20%20%20%20%20%20%20%20%20%20%20%20%20%20%20%20%22map_d89a343979c04fe381d77f5893784ef7%22%2C%0A%20%20%20%20%20%20%20%20%20%20%20%20%20%20%20%20%7B%0A%20%20%20%20%20%20%20%20%20%20%20%20%20%20%20%20%20%20%20%20center%3A%20%5B63.5%2C%2017.0%5D%2C%0A%20%20%20%20%20%20%20%20%20%20%20%20%20%20%20%20%20%20%20%20crs%3A%20L.CRS.EPSG3857%2C%0A%20%20%20%20%20%20%20%20%20%20%20%20%20%20%20%20%20%20%20%20zoom%3A%204%2C%0A%20%20%20%20%20%20%20%20%20%20%20%20%20%20%20%20%20%20%20%20zoomControl%3A%20true%2C%0A%20%20%20%20%20%20%20%20%20%20%20%20%20%20%20%20%20%20%20%20preferCanvas%3A%20false%2C%0A%20%20%20%20%20%20%20%20%20%20%20%20%20%20%20%20%20%20%20%20minResolution%3A%200%2C%0A%20%20%20%20%20%20%20%20%20%20%20%20%20%20%20%20%7D%0A%20%20%20%20%20%20%20%20%20%20%20%20%29%3B%0A%0A%20%20%20%20%20%20%20%20%20%20%20%20%0A%0A%20%20%20%20%20%20%20%20%0A%20%20%20%20%0A%20%20%20%20%20%20%20%20%20%20%20%20var%20tile_layer_8757d537d5244f58b3bdce4a83867da1%20%3D%20L.tileLayer%28%0A%20%20%20%20%20%20%20%20%20%20%20%20%20%20%20%20%22https%3A//cartodb-basemaps-%7Bs%7D.global.ssl.fastly.net/light_all/%7Bz%7D/%7Bx%7D/%7By%7D.png%22%2C%0A%20%20%20%20%20%20%20%20%20%20%20%20%20%20%20%20%7B%22attribution%22%3A%20%22%5Cu0026copy%3B%20%5Cu003ca%20href%3D%5C%22http%3A//www.openstreetmap.org/copyright%5C%22%5Cu003eOpenStreetMap%5Cu003c/a%5Cu003e%20contributors%20%5Cu0026copy%3B%20%5Cu003ca%20href%3D%5C%22http%3A//cartodb.com/attributions%5C%22%5Cu003eCartoDB%5Cu003c/a%5Cu003e%2C%20CartoDB%20%5Cu003ca%20href%20%3D%5C%22http%3A//cartodb.com/attributions%5C%22%5Cu003eattributions%5Cu003c/a%5Cu003e%22%2C%20%22detectRetina%22%3A%20false%2C%20%22maxNativeZoom%22%3A%2018%2C%20%22maxZoom%22%3A%2018%2C%20%22minZoom%22%3A%200%2C%20%22noWrap%22%3A%20false%2C%20%22opacity%22%3A%201%2C%20%22subdomains%22%3A%20%22abc%22%2C%20%22tms%22%3A%20false%7D%0A%20%20%20%20%20%20%20%20%20%20%20%20%29.addTo%28map_d89a343979c04fe381d77f5893784ef7%29%3B%0A%20%20%20%20%20%20%20%20%0A%20%20%20%20%0A%20%20%20%20%20%20%20%20%20%20%20%20var%20feature_group_e72e8ce523c647a0908561b0fa0ecc8e%20%3D%20L.featureGroup%28%0A%20%20%20%20%20%20%20%20%20%20%20%20%20%20%20%20%7B%7D%0A%20%20%20%20%20%20%20%20%20%20%20%20%29.addTo%28map_d89a343979c04fe381d77f5893784ef7%29%3B%0A%20%20%20%20%20%20%20%20%0A%20%20%20%20%0A%20%20%20%20%20%20%20%20%20%20%20%20var%20macro_element_2a6497dd08e442119e85f7bc20f214ca%20%3D%20L.tileLayer.wms%28%0A%20%20%20%20%20%20%20%20%20%20%20%20%20%20%20%20%22https%3A//fingrid.navici.com/wms/3d5805c1f9cda9db42d9d9378952427b%22%2C%0A%20%20%20%20%20%20%20%20%20%20%20%20%20%20%20%20%7B%22attribution%22%3A%20%22%5Cu003ca%20href%3D%5C%22https%3A//fingrid.navici.com/%5C%22%5Cu003eFingrid%20Navici%5Cu003c/a%5Cu003e%22%2C%20%22format%22%3A%20%22image/gif%22%2C%20%22layers%22%3A%20%5B%22active_power_lines%22%2C%20%22external_power_lines%22%2C%20%22active_cables%22%2C%20%22external_cables%22%2C%20%22active_stations%22%2C%20%22external_stations%22%5D%2C%20%22styles%22%3A%20%22%22%2C%20%22transparent%22%3A%20true%2C%20%22version%22%3A%20%221.1.1%22%7D%0A%20%20%20%20%20%20%20%20%20%20%20%20%29.addTo%28feature_group_e72e8ce523c647a0908561b0fa0ecc8e%29%3B%0A%20%20%20%20%20%20%20%20%0A%20%20%20%20%0A%20%20%20%20%20%20%20%20%20%20%20%20var%20feature_group_cdcaa6b1dc02450b8930d8c7f0ad5747%20%3D%20L.featureGroup%28%0A%20%20%20%20%20%20%20%20%20%20%20%20%20%20%20%20%7B%7D%0A%20%20%20%20%20%20%20%20%20%20%20%20%29.addTo%28map_d89a343979c04fe381d77f5893784ef7%29%3B%0A%20%20%20%20%20%20%20%20%0A%20%20%20%20%0A%20%20%20%20%20%20%20%20%20%20%20%20var%20macro_element_e976d44082e7439dbf833bf99a75b523%20%3D%20L.tileLayer.wms%28%0A%20%20%20%20%20%20%20%20%20%20%20%20%20%20%20%20%22https%3A//agis.energinet.dk/server/services/INSPIRE/XP_el_Inspir/MapServer/WMSServer%22%2C%0A%20%20%20%20%20%20%20%20%20%20%20%20%20%20%20%20%7B%22attribution%22%3A%20%22%5Cu003ca%20href%3D%5C%22https%3A//agis.energinet.dk/server/rest/services/%5C%22%5Cu003e%20Energinet%20ArcGIS%5Cu003c/a%5Cu003e%22%2C%20%22format%22%3A%20%22image/gif%22%2C%20%22layers%22%3A%20%5B%220%22%2C%20%221%22%2C%20%222%22%2C%20%223%22%5D%2C%20%22styles%22%3A%20%22%22%2C%20%22transparent%22%3A%20true%2C%20%22version%22%3A%20%221.1.1%22%7D%0A%20%20%20%20%20%20%20%20%20%20%20%20%29.addTo%28feature_group_cdcaa6b1dc02450b8930d8c7f0ad5747%29%3B%0A%20%20%20%20%20%20%20%20%0A%20%20%20%20%0A%20%20%20%20%20%20%20%20%20%20%20%20var%20macro_element_4d984c8582764153a73f2949c9d53db1%20%3D%20L.tileLayer.wms%28%0A%20%20%20%20%20%20%20%20%20%20%20%20%20%20%20%20%22https%3A//agis.energinet.dk/server/services/INSPIRE/WMS_WFS_TowerSubstationLine_N/MapServer/WMSServer%22%2C%0A%20%20%20%20%20%20%20%20%20%20%20%20%20%20%20%20%7B%22attribution%22%3A%20%22%22%2C%20%22format%22%3A%20%22image/gif%22%2C%20%22layers%22%3A%20%5B%221%22%5D%2C%20%22styles%22%3A%20%22%22%2C%20%22transparent%22%3A%20true%2C%20%22version%22%3A%20%221.1.1%22%7D%0A%20%20%20%20%20%20%20%20%20%20%20%20%29.addTo%28feature_group_cdcaa6b1dc02450b8930d8c7f0ad5747%29%3B%0A%20%20%20%20%20%20%20%20%0A%20%20%20%20%0A%20%20%20%20%20%20%20%20%20%20%20%20var%20feature_group_c2f88069d2d040f78e9db1e31b6e27f2%20%3D%20L.featureGroup%28%0A%20%20%20%20%20%20%20%20%20%20%20%20%20%20%20%20%7B%7D%0A%20%20%20%20%20%20%20%20%20%20%20%20%29.addTo%28map_d89a343979c04fe381d77f5893784ef7%29%3B%0A%20%20%20%20%20%20%20%20%0A%20%20%20%20%0A%20%20%20%20%20%20%20%20%20%20%20%20var%20macro_element_6587d1c99039411e914ec95171614aa8%20%3D%20L.tileLayer.wms%28%0A%20%20%20%20%20%20%20%20%20%20%20%20%20%20%20%20%22https%3A//nve.geodataonline.no/arcgis/services/Nettanlegg2/MapServer/WMSServer%22%2C%0A%20%20%20%20%20%20%20%20%20%20%20%20%20%20%20%20%7B%22attribution%22%3A%20%22%5Cu003ca%20href%3D%5C%22https%3A//nve.geodataonline.no/arcgis/rest/services/Nettanlegg2/MapServer%5C%22%5Cu003eStatnett/Nve%20ArcGIS%5Cu003c/a%5Cu003e%22%2C%20%22format%22%3A%20%22image/png%22%2C%20%22layers%22%3A%20%5B%22Sjokabler%22%2C%20%22Distribusjonsnett%22%2C%20%22Regionalnett%22%2C%20%22Sentralnett%22%2C%20%22Transformatorstasjoner%22%2C%20%22Master%20og%20stolper%22%5D%2C%20%22minZoom%22%3A%200%2C%20%22styles%22%3A%20%22%22%2C%20%22transparent%22%3A%20true%2C%20%22version%22%3A%20%221.1.1%22%7D%0A%20%20%20%20%20%20%20%20%20%20%20%20%29.addTo%28feature_group_c2f88069d2d040f78e9db1e31b6e27f2%29%3B%0A%20%20%20%20%20%20%20%20%0A%20%20%20%20%0A%20%20%20%20%20%20%20%20%20%20%20%20var%20feature_group_343f70f129ee4657b1cb5a361f9faee8%20%3D%20L.featureGroup%28%0A%20%20%20%20%20%20%20%20%20%20%20%20%20%20%20%20%7B%7D%0A%20%20%20%20%20%20%20%20%20%20%20%20%29.addTo%28map_d89a343979c04fe381d77f5893784ef7%29%3B%0A%20%20%20%20%20%20%20%20%0A%20%20%20%20%0A%20%20%20%20%20%20%20%20%20%20%20%20var%20macro_element_f124128ffcf4464c9db2fb0497fa36f8%20%3D%20L.tileLayer.wms%28%0A%20%20%20%20%20%20%20%20%20%20%20%20%20%20%20%20%22https%3A//inspire-skn.metria.se/geoserver/skn/wms%22%2C%0A%20%20%20%20%20%20%20%20%20%20%20%20%20%20%20%20%7B%22attribution%22%3A%20%22%5Cu003ca%20href%3D%5C%22https%3A//inspire-skn.metria.se/geoserver/skn/wms%3FREQUEST%3DGetCapabilities%5C%22%5Cu003eSvenska%20Kraftn%5Cu00e4t/L%5Cu00e4ntm%5Cu00e4teriet%20GeoServer%5Cu003c/a%5Cu003e%22%2C%20%22format%22%3A%20%22image/gif%22%2C%20%22layers%22%3A%20%5B%22US.ElectricityNetwork.Lines%22%2C%20%22US.ElectricityNetwork.StationAreas%22%2C%20%22US.ElectricityNetwork.Stations%22%5D%2C%20%22styles%22%3A%20%22%22%2C%20%22transparent%22%3A%20true%2C%20%22version%22%3A%20%221.1.1%22%7D%0A%20%20%20%20%20%20%20%20%20%20%20%20%29.addTo%28feature_group_343f70f129ee4657b1cb5a361f9faee8%29%3B%0A%20%20%20%20%20%20%20%20%0A%20%20%20%20%0A%20%20%20%20%20%20%20%20%20%20%20%20var%20layer_control_e5c2297cf1884db591878a8e5b0fe15e%20%3D%20%7B%0A%20%20%20%20%20%20%20%20%20%20%20%20%20%20%20%20base_layers%20%3A%20%7B%0A%20%20%20%20%20%20%20%20%20%20%20%20%20%20%20%20%20%20%20%20%22cartodbpositron%22%20%3A%20tile_layer_8757d537d5244f58b3bdce4a83867da1%2C%0A%20%20%20%20%20%20%20%20%20%20%20%20%20%20%20%20%7D%2C%0A%20%20%20%20%20%20%20%20%20%20%20%20%20%20%20%20overlays%20%3A%20%20%7B%0A%20%20%20%20%20%20%20%20%20%20%20%20%20%20%20%20%20%20%20%20%22Finland%2C%20Fingrid%20Grid%22%20%3A%20feature_group_e72e8ce523c647a0908561b0fa0ecc8e%2C%0A%20%20%20%20%20%20%20%20%20%20%20%20%20%20%20%20%20%20%20%20%22Denmark%2C%20Energinet%20Grid%22%20%3A%20feature_group_cdcaa6b1dc02450b8930d8c7f0ad5747%2C%0A%20%20%20%20%20%20%20%20%20%20%20%20%20%20%20%20%20%20%20%20%22Norway%2C%20Statnett%20Grid%22%20%3A%20feature_group_c2f88069d2d040f78e9db1e31b6e27f2%2C%0A%20%20%20%20%20%20%20%20%20%20%20%20%20%20%20%20%20%20%20%20%22Sweden%2C%20Svenska%20Kraftn%5Cu00e4t%20Grid%22%20%3A%20feature_group_343f70f129ee4657b1cb5a361f9faee8%2C%0A%20%20%20%20%20%20%20%20%20%20%20%20%20%20%20%20%7D%2C%0A%20%20%20%20%20%20%20%20%20%20%20%20%7D%3B%0A%20%20%20%20%20%20%20%20%20%20%20%20L.control.layers%28%0A%20%20%20%20%20%20%20%20%20%20%20%20%20%20%20%20layer_control_e5c2297cf1884db591878a8e5b0fe15e.base_layers%2C%0A%20%20%20%20%20%20%20%20%20%20%20%20%20%20%20%20layer_control_e5c2297cf1884db591878a8e5b0fe15e.overlays%2C%0A%20%20%20%20%20%20%20%20%20%20%20%20%20%20%20%20%7B%22autoZIndex%22%3A%20true%2C%20%22collapsed%22%3A%20true%2C%20%22collapset%22%3A%20false%2C%20%22position%22%3A%20%22topright%22%7D%0A%20%20%20%20%20%20%20%20%20%20%20%20%29.addTo%28map_d89a343979c04fe381d77f5893784ef7%29%3B%0A%20%20%20%20%20%20%20%20%0A%20%20%20%20%0A%20%20%20%20%20%20%20%20%20%20%20%20var%20options%20%3D%20%7B%0A%20%20%20%20%20%20%20%20%20%20%20%20%20%20position%3A%20%22topleft%22%2C%0A%20%20%20%20%20%20%20%20%20%20%20%20%20%20draw%3A%20%7B%7D%2C%0A%20%20%20%20%20%20%20%20%20%20%20%20%20%20edit%3A%20%7B%7D%2C%0A%20%20%20%20%20%20%20%20%20%20%20%20%7D%0A%20%20%20%20%20%20%20%20%20%20%20%20//%20FeatureGroup%20is%20to%20store%20editable%20layers.%0A%20%20%20%20%20%20%20%20%20%20%20%20var%20drawnItems%20%3D%20new%20L.featureGroup%28%29.addTo%28%0A%20%20%20%20%20%20%20%20%20%20%20%20%20%20%20%20map_d89a343979c04fe381d77f5893784ef7%0A%20%20%20%20%20%20%20%20%20%20%20%20%29%3B%0A%20%20%20%20%20%20%20%20%20%20%20%20options.edit.featureGroup%20%3D%20drawnItems%3B%0A%20%20%20%20%20%20%20%20%20%20%20%20var%20draw_control_25b6bfb911ed47559aef6f5ab14baaeb%20%3D%20new%20L.Control.Draw%28%0A%20%20%20%20%20%20%20%20%20%20%20%20%20%20%20%20options%0A%20%20%20%20%20%20%20%20%20%20%20%20%29.addTo%28%20map_d89a343979c04fe381d77f5893784ef7%20%29%3B%0A%20%20%20%20%20%20%20%20%20%20%20%20map_d89a343979c04fe381d77f5893784ef7.on%28L.Draw.Event.CREATED%2C%20function%28e%29%20%7B%0A%20%20%20%20%20%20%20%20%20%20%20%20%20%20%20%20var%20layer%20%3D%20e.layer%2C%0A%20%20%20%20%20%20%20%20%20%20%20%20%20%20%20%20%20%20%20%20type%20%3D%20e.layerType%3B%0A%20%20%20%20%20%20%20%20%20%20%20%20%20%20%20%20var%20coords%20%3D%20JSON.stringify%28layer.toGeoJSON%28%29%29%3B%0A%20%20%20%20%20%20%20%20%20%20%20%20%20%20%20%20layer.on%28%27click%27%2C%20function%28%29%20%7B%0A%20%20%20%20%20%20%20%20%20%20%20%20%20%20%20%20%20%20%20%20alert%28coords%29%3B%0A%20%20%20%20%20%20%20%20%20%20%20%20%20%20%20%20%20%20%20%20console.log%28coords%29%3B%0A%20%20%20%20%20%20%20%20%20%20%20%20%20%20%20%20%7D%29%3B%0A%20%20%20%20%20%20%20%20%20%20%20%20%20%20%20%20drawnItems.addLayer%28layer%29%3B%0A%20%20%20%20%20%20%20%20%20%20%20%20%20%7D%29%3B%0A%20%20%20%20%20%20%20%20%20%20%20%20map_d89a343979c04fe381d77f5893784ef7.on%28%27draw%3Acreated%27%2C%20function%28e%29%20%7B%0A%20%20%20%20%20%20%20%20%20%20%20%20%20%20%20%20drawnItems.addLayer%28e.layer%29%3B%0A%20%20%20%20%20%20%20%20%20%20%20%20%7D%29%3B%0A%20%20%20%20%20%20%20%20%20%20%20%20%0A%20%20%20%20%20%20%20%20%0A%20%20%20%20%0A%20%20%20%20%20%20%20%20%20%20%20%20var%20measure_control_8aa6ea3e04964ba08e6e55e94a6f120b%20%3D%20new%20L.Control.Measure%28%0A%20%20%20%20%20%20%20%20%20%20%20%20%20%20%20%20%7B%22position%22%3A%20%22bottomleft%22%2C%20%22primaryAreaUnit%22%3A%20%22sqmeters%22%2C%20%22primaryLengthUnit%22%3A%20%22meters%22%2C%20%22secondaryAreaUnit%22%3A%20%22acres%22%2C%20%22secondaryLengthUnit%22%3A%20%22miles%22%7D%29%3B%0A%20%20%20%20%20%20%20%20%20%20%20%20map_d89a343979c04fe381d77f5893784ef7.addControl%28measure_control_8aa6ea3e04964ba08e6e55e94a6f120b%29%3B%0A%0A%20%20%20%20%20%20%20%20%0A%20%20%20%20%0A%20%20%20%20%20%20%20%20%20%20%20%20L.control.fullscreen%28%0A%20%20%20%20%20%20%20%20%20%20%20%20%20%20%20%20%7B%22forceSeparateButton%22%3A%20false%2C%20%22position%22%3A%20%22topleft%22%2C%20%22title%22%3A%20%22Full%20Screen%22%2C%20%22titleCancel%22%3A%20%22Exit%20Full%20Screen%22%7D%0A%20%20%20%20%20%20%20%20%20%20%20%20%29.addTo%28map_d89a343979c04fe381d77f5893784ef7%29%3B%0A%20%20%20%20%20%20%20%20%0A%3C/script%3E onload=\"this.contentDocument.open();this.contentDocument.write(    decodeURIComponent(this.getAttribute('data-html')));this.contentDocument.close();\" allowfullscreen webkitallowfullscreen mozallowfullscreen></iframe></div></div>"
      ]
     },
     "metadata": {},
     "execution_count": 11
    }
   ],
   "metadata": {
    "code_folding": [
     0
    ],
    "scrolled": false
   }
  },
  {
   "cell_type": "code",
   "execution_count": 12,
   "source": [
    "print(os.getcwd())\r\n",
    "# Save map as html.\r\n",
    "m.save('nordict_raw-net_map.html')"
   ],
   "outputs": [
    {
     "output_type": "execute_result",
     "data": {
      "text/plain": [
       "'C:\\\\Users\\\\oscjac\\\\repo\\\\NordicT\\\\notebooks'"
      ]
     },
     "metadata": {},
     "execution_count": 12
    }
   ],
   "metadata": {}
  }
 ],
 "metadata": {
  "hide_input": false,
  "kernelspec": {
   "display_name": "Python 3",
   "language": "python",
   "name": "python3"
  },
  "language_info": {
   "codemirror_mode": {
    "name": "ipython",
    "version": 3
   },
   "file_extension": ".py",
   "mimetype": "text/x-python",
   "name": "python",
   "nbconvert_exporter": "python",
   "pygments_lexer": "ipython3",
   "version": "3.8.10"
  },
  "toc": {
   "base_numbering": 1,
   "nav_menu": {},
   "number_sections": true,
   "sideBar": true,
   "skip_h1_title": false,
   "title_cell": "Table of Contents",
   "title_sidebar": "Contents",
   "toc_cell": false,
   "toc_position": {},
   "toc_section_display": true,
   "toc_window_display": false
  },
  "varInspector": {
   "cols": {
    "lenName": 16,
    "lenType": 16,
    "lenVar": 40
   },
   "kernels_config": {
    "python": {
     "delete_cmd_postfix": "",
     "delete_cmd_prefix": "del ",
     "library": "var_list.py",
     "varRefreshCmd": "print(var_dic_list())"
    },
    "r": {
     "delete_cmd_postfix": ") ",
     "delete_cmd_prefix": "rm(",
     "library": "var_list.r",
     "varRefreshCmd": "cat(var_dic_list()) "
    }
   },
   "types_to_exclude": [
    "module",
    "function",
    "builtin_function_or_method",
    "instance",
    "_Feature"
   ],
   "window_display": false
  }
 },
 "nbformat": 4,
 "nbformat_minor": 5
}